{
 "cells": [
  {
   "cell_type": "code",
   "execution_count": null,
   "id": "a87a9162",
   "metadata": {},
   "outputs": [],
   "source": [
    "1.\tWrite a Python Program to Find the Factorial of a Number?\n",
    "Ans -\n",
    "a = int(input(\"Enter a number: \"))\n",
    "\n",
    "fac=1\n",
    "for i in range(1,a+1):\n",
    "    fac = fac * i\n",
    "\n",
    "print(\"Factorial of the number is \", fac)\n"
   ]
  },
  {
   "cell_type": "code",
   "execution_count": null,
   "id": "199cd986",
   "metadata": {},
   "outputs": [],
   "source": [
    "2.\tWrite a Python Program to Display the multiplication Table?\n",
    "Ans -\n",
    "a = int(input(\"Enter a number: \"))\n",
    "\n",
    "print (\"The Multiplication Table of: \", a)\n",
    "for i in range(1,11):\n",
    "    print(\"Multiplication of \", a, \" with \", i , \" is \" , a*i)"
   ]
  },
  {
   "cell_type": "code",
   "execution_count": null,
   "id": "8f509017",
   "metadata": {},
   "outputs": [],
   "source": [
    "3.\tWrite a Python Program to Print the Fibonacci sequence?\n",
    "Ans - \n",
    "l = []\n",
    "a = 0\n",
    "b = 1\n",
    "l.append(a)\n",
    "l.append(b)\n",
    "for i in range(1,19):\n",
    "    a , b = b , a + b\n",
    "    l.append(b)\n",
    "\n",
    "print (\"Fibonacci sequence for 20 element: \")\n",
    "print(l)"
   ]
  },
  {
   "cell_type": "code",
   "execution_count": null,
   "id": "f840aaf7",
   "metadata": {},
   "outputs": [],
   "source": [
    "4.\tWrite a Python Program to Check Armstrong Number?\n",
    "Ans - \n",
    "a = input(\"Enter a number: \")\n",
    "\n",
    "length = len(a)\n",
    "#print(length)\n",
    "res = 0\n",
    "for i in range(length):\n",
    "    res = res + int(i) ** length\n",
    "\n",
    "if(res == int(a)):\n",
    "    print(a, \" is a Armstrong Number\")\n",
    "else:\n",
    "    print(a, \" is not a Armstrong Number\")"
   ]
  },
  {
   "cell_type": "code",
   "execution_count": null,
   "id": "a0153f67",
   "metadata": {},
   "outputs": [],
   "source": [
    "5.\tWrite a Python Program to Find Armstrong Number in an Interval?\n",
    "Ans - \n",
    "start_interval = int(input(\"Enter a number for interval start: \"))\n",
    "end_interval = int(input(\"Enter a number for interval end: \"))\n",
    "\n",
    "l=[]\n",
    "for i in range(start_interval,end_interval+1):\n",
    "    length = len(str(i))\n",
    "    res = 0\n",
    "    for j in str(i):\n",
    "        res = res + int(j) ** length\n",
    "\n",
    "    if(res == int(i)):\n",
    "        l.append(i)\n",
    "print(\"Amstrong numbers between\", start_interval, \" and \", end_interval, \" are:\" )\n",
    "print(l)\n"
   ]
  },
  {
   "cell_type": "code",
   "execution_count": null,
   "id": "c6aa42bb",
   "metadata": {},
   "outputs": [],
   "source": [
    "6.\tWrite a Python Program to Find the Sum of Natural Numbers?\n",
    "Ans - \n",
    "a = int(input(\"Enter a number: \"))\n",
    "nextnum = a + 1\n",
    "sumn = a*nextnum/2\n",
    "\n",
    "print(\"The Sum of Natural Numbers\", a, \" is:\", sumn)"
   ]
  },
  {
   "cell_type": "code",
   "execution_count": null,
   "id": "32045004",
   "metadata": {},
   "outputs": [],
   "source": []
  }
 ],
 "metadata": {
  "kernelspec": {
   "display_name": "Python 3",
   "language": "python",
   "name": "python3"
  },
  "language_info": {
   "codemirror_mode": {
    "name": "ipython",
    "version": 3
   },
   "file_extension": ".py",
   "mimetype": "text/x-python",
   "name": "python",
   "nbconvert_exporter": "python",
   "pygments_lexer": "ipython3",
   "version": "3.8.8"
  }
 },
 "nbformat": 4,
 "nbformat_minor": 5
}
