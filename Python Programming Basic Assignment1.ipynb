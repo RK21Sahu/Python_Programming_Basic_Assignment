{
 "cells": [
  {
   "cell_type": "code",
   "execution_count": null,
   "id": "b5169dab",
   "metadata": {},
   "outputs": [],
   "source": [
    "1.\tWrite a Python program to print \"Hello Python\"?\n",
    "Ans - \n",
    "print(\"Hello Python\")"
   ]
  },
  {
   "cell_type": "code",
   "execution_count": null,
   "id": "da5e65b3",
   "metadata": {},
   "outputs": [],
   "source": [
    "2.\tWrite a Python program to do arithmetical operations addition and division.?\n",
    "Ans -\n",
    "a = 10\n",
    "b = 5\n",
    "c = a + b\n",
    "d = a / b\n",
    "\n",
    "c will have addition of a and b.\n",
    "d will have division of a by b."
   ]
  },
  {
   "cell_type": "code",
   "execution_count": null,
   "id": "bd62db86",
   "metadata": {},
   "outputs": [],
   "source": [
    "3.\tWrite a Python program to find the ?\n",
    "Ans - \n",
    "\n",
    "b = 10\n",
    "h = 5\n",
    "a = 10*5/2\n",
    "with base b and height h the area of trangle will be a.\n",
    "area of trangle = 25\n"
   ]
  },
  {
   "cell_type": "code",
   "execution_count": null,
   "id": "ca847a44",
   "metadata": {},
   "outputs": [],
   "source": [
    "4.\tWrite a Python program to swap two variables?\n",
    "Ans - \n",
    "a=10\n",
    "b=5\n",
    "temp = a\n",
    "a = b\n",
    "b = temp\n"
   ]
  },
  {
   "cell_type": "code",
   "execution_count": null,
   "id": "35d49fd2",
   "metadata": {},
   "outputs": [],
   "source": [
    "5.\tWrite a Python program to generate a random number?\n",
    "Ans -\n",
    "\n",
    "import random\n",
    "print(random.randrange(3, 9))"
   ]
  },
  {
   "cell_type": "code",
   "execution_count": null,
   "id": "15943329",
   "metadata": {},
   "outputs": [],
   "source": []
  }
 ],
 "metadata": {
  "kernelspec": {
   "display_name": "Python 3",
   "language": "python",
   "name": "python3"
  },
  "language_info": {
   "codemirror_mode": {
    "name": "ipython",
    "version": 3
   },
   "file_extension": ".py",
   "mimetype": "text/x-python",
   "name": "python",
   "nbconvert_exporter": "python",
   "pygments_lexer": "ipython3",
   "version": "3.8.8"
  }
 },
 "nbformat": 4,
 "nbformat_minor": 5
}
