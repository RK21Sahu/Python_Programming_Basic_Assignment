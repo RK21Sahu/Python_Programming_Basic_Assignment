{
 "cells": [
  {
   "cell_type": "code",
   "execution_count": null,
   "id": "0b26bd5d",
   "metadata": {},
   "outputs": [],
   "source": [
    "1.\tWrite a Python Program to Check if a Number is Positive, Negative or Zero?\n",
    "Ans - \n",
    "a = int(input(\"Enter a number: \"))\n",
    "\n",
    "if a > 0:\n",
    "    print(\"The number is Positive\")\n",
    "elif a == 0:\n",
    "    print(\"The number is Zero\")\n",
    "else:\n",
    "    print(\"The number is Negetive\")"
   ]
  },
  {
   "cell_type": "code",
   "execution_count": null,
   "id": "5f8cbcca",
   "metadata": {},
   "outputs": [],
   "source": [
    "2.\tWrite a Python Program to Check if a Number is Odd or Even?\n",
    "Ans -\n",
    "a = int(input(\"Enter a number: \"))\n",
    "\n",
    "if a % 2==0:\n",
    "    print(\"The number is Even\")\n",
    "else:\n",
    "    print(\"The number is Odd\")"
   ]
  },
  {
   "cell_type": "code",
   "execution_count": null,
   "id": "bd5a737f",
   "metadata": {},
   "outputs": [],
   "source": [
    "3.\tWrite a Python Program to Check Leap Year?\n",
    "Ans -\n",
    "a = int(input(\"Enter a number: \"))\n",
    "\n",
    "if a % 400 == 0:\n",
    "    print(\"This is a leap year\")\n",
    "elif a % 4 == 0 and a % 100 != 0:\n",
    "    print(\"This is a leap year\")\n",
    "else:\n",
    "    print(\"This is not aleap year\")"
   ]
  },
  {
   "cell_type": "code",
   "execution_count": null,
   "id": "94dc0a91",
   "metadata": {},
   "outputs": [],
   "source": [
    "4.\tWrite a Python Program to Check Prime Number?\n",
    "Ans -\n",
    "a = int(input(\"Enter a number: \"))\n",
    "\n",
    "cnt=0\n",
    "for i in range(2,a):\n",
    "    if a % i == 0:\n",
    "        cnt = 1\n",
    "\n",
    "if cnt == 0:\n",
    "    print(a, \"is a prime number\")\n",
    "else:\n",
    "    print(a, \"is not a prime number\")\n"
   ]
  },
  {
   "cell_type": "code",
   "execution_count": null,
   "id": "62943e84",
   "metadata": {},
   "outputs": [],
   "source": [
    "5.\tWrite a Python Program to Print all Prime Numbers in an Interval of 1-10000?\n",
    "Ans -\n",
    "l = []\n",
    "for i in range(2,10001):\n",
    "    cnt=0\n",
    "    for j in range(2,i):\n",
    "        if i % j == 0:\n",
    "            cnt = 1\n",
    "    if cnt == 0:\n",
    "        l.append(i)\n",
    "\n",
    "print(\"All prime number start from 1 to 10000 mentioned below:\")\n",
    "print(l)\n"
   ]
  },
  {
   "cell_type": "code",
   "execution_count": null,
   "id": "0569721d",
   "metadata": {},
   "outputs": [],
   "source": []
  }
 ],
 "metadata": {
  "kernelspec": {
   "display_name": "Python 3",
   "language": "python",
   "name": "python3"
  },
  "language_info": {
   "codemirror_mode": {
    "name": "ipython",
    "version": 3
   },
   "file_extension": ".py",
   "mimetype": "text/x-python",
   "name": "python",
   "nbconvert_exporter": "python",
   "pygments_lexer": "ipython3",
   "version": "3.8.8"
  }
 },
 "nbformat": 4,
 "nbformat_minor": 5
}
