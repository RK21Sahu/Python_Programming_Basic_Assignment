{
 "cells": [
  {
   "cell_type": "code",
   "execution_count": null,
   "id": "e05c5738",
   "metadata": {},
   "outputs": [],
   "source": [
    "1.\tWrite a Python Program to find sum of array?\n",
    "Ans - \n",
    "def asum(arr):\n",
    "    sum = 0\n",
    "    for i in arr:\n",
    "        sum = sum + i\n",
    "    return sum\n",
    "\n",
    "arr = [4,5,8,10]\n",
    "asum(arr)"
   ]
  },
  {
   "cell_type": "code",
   "execution_count": null,
   "id": "66b3ac68",
   "metadata": {},
   "outputs": [],
   "source": [
    "2.\tWrite a Python Program to find largest element in an array?\n",
    "Ans - \n",
    "def amax(arr):\n",
    "    chkmax = arr[0]\n",
    "    for i  in arr:\n",
    "        if chkmax < i:\n",
    "            chkmax=i\n",
    "    return chkmax\n",
    "    \n",
    "amax(arr)\n"
   ]
  },
  {
   "cell_type": "code",
   "execution_count": null,
   "id": "a8ed39f5",
   "metadata": {},
   "outputs": [],
   "source": [
    "3.\tWrite a Python Program for array rotation?\n",
    "Ans - \n",
    "def arot(arr):\n",
    "    rotarr = []\n",
    "    l = len(arr)\n",
    "    while l >0:\n",
    "        rotarr.append(arr[l-1])\n",
    "        l = l-1\n",
    "    return rotarr\n",
    "    \n",
    "arot(arr)\n"
   ]
  },
  {
   "cell_type": "code",
   "execution_count": null,
   "id": "604a69d8",
   "metadata": {},
   "outputs": [],
   "source": [
    "4.\tWrite a Python Program to Split the array and add the first part to the end?\n",
    "Ans -\n",
    "def msplit(arr):\n",
    "    rotarrm = []\n",
    "    l = len(arr)\n",
    "    j = int(l/2)\n",
    "    for i in range(j,l):\n",
    "        rotarrm.append(arr[i])\n",
    "    for i in range(0,j):\n",
    "        rotarrm.append(arr[i])\n",
    "    return rotarrm\n",
    "    \n",
    "msplit(arr)\n"
   ]
  },
  {
   "cell_type": "code",
   "execution_count": null,
   "id": "5e07dcad",
   "metadata": {},
   "outputs": [],
   "source": [
    "5.\tWrite a Python Program to check if given array is Monotonic?\n",
    "Ans - \n",
    "def mono(arr):\n",
    "    return (all(arr[i] <= arr[i + 1] for i in range(len(arr) - 1)) or\n",
    "            all(arr[i] >= arr[i + 1] for i in range(len(arr) - 1)))\n",
    "    \n",
    "mono(arr)"
   ]
  },
  {
   "cell_type": "code",
   "execution_count": null,
   "id": "9242213e",
   "metadata": {},
   "outputs": [],
   "source": []
  }
 ],
 "metadata": {
  "kernelspec": {
   "display_name": "Python 3",
   "language": "python",
   "name": "python3"
  },
  "language_info": {
   "codemirror_mode": {
    "name": "ipython",
    "version": 3
   },
   "file_extension": ".py",
   "mimetype": "text/x-python",
   "name": "python",
   "nbconvert_exporter": "python",
   "pygments_lexer": "ipython3",
   "version": "3.8.8"
  }
 },
 "nbformat": 4,
 "nbformat_minor": 5
}
