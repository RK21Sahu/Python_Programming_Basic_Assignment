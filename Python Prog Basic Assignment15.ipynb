{
 "cells": [
  {
   "cell_type": "code",
   "execution_count": null,
   "id": "69048bbd",
   "metadata": {},
   "outputs": [],
   "source": [
    "Question 1:\n",
    "Please write a program using generator to print the numbers which can be divisible by 5 and 7 between 0 and n in comma \n",
    "separated form while n is input by console.\n",
    "Example:\n",
    "If the following n is given as input to the program:\n",
    "100\n",
    "Then, the output of the program should be:\n",
    "0,35,70\n",
    "\n",
    "ans - \n",
    "class GenDiv:\n",
    "    def __init__(self,n):\n",
    "        self.n = n\n",
    "        \n",
    "    def div7(self):\n",
    "        for i in range(self.n):\n",
    "            if i%7== 0 and i%5==0:\n",
    "                yield i\n",
    "            i+=1\n",
    "\n",
    "n = input(\"enter limit of number:\")\n",
    "n=n.replace(\",\",\"\")\n",
    "a = GenDiv(int(n))\n",
    "b = a.div7()\n",
    "\n",
    "print(','.join([str(i) for i in b]))"
   ]
  },
  {
   "cell_type": "code",
   "execution_count": null,
   "id": "ae531638",
   "metadata": {},
   "outputs": [],
   "source": [
    "Question 2:\n",
    "Please write a program using generator to print the even numbers between 0 and n in comma separated form while n is input \n",
    "by console.\n",
    "Example:\n",
    "If the following n is given as input to the program:\n",
    "10\n",
    "Then, the output of the program should be:\n",
    "0,2,4,6,8,10\n",
    "\n",
    "ans - \n",
    "class listEven:\n",
    "    def __init__(self,n):\n",
    "        self.n = n\n",
    "        \n",
    "    def Even(self):\n",
    "        for i in range(self.n):\n",
    "            if i%2== 0:\n",
    "                yield i\n",
    "            i+=1\n",
    "\n",
    "n = input(\"enter limit of number:\")\n",
    "n=n.replace(\",\",\"\")\n",
    "a = listEven(int(n))\n",
    "b = a.Even()\n",
    "\n",
    "print(','.join([str(i) for i in b]))"
   ]
  },
  {
   "cell_type": "code",
   "execution_count": null,
   "id": "fa02b2f8",
   "metadata": {},
   "outputs": [],
   "source": [
    "Question 3:\n",
    "The Fibonacci Sequence is computed based on the following formula:\n",
    "f(n)=0 if n=0\n",
    "f(n)=1 if n=1\n",
    "f(n)=f(n-1)+f(n-2) if n>1\n",
    "Please write a program using list comprehension to print the Fibonacci Sequence in comma separated form with a given n \n",
    "input by console.\n",
    "Example:\n",
    "If the following n is given as input to the program:\n",
    "7\n",
    "Then, the output of the program should be:\n",
    "0,1,1,2,3,5,8,13\n",
    "\n",
    "ans - \n",
    "class Fibseq:\n",
    "       \n",
    "    def Fibonacci(self,n):\n",
    "        lst = [0,1]\n",
    "        [lst.append(lst[-2]+lst[-1]) for i in range(n)]\n",
    "        print(lst)\n",
    "\n",
    "n = input(\"enter limit of number:\")\n",
    "n=int(n.replace(\",\",\"\"))\n",
    "a = Fibseq()\n",
    "a.Fibonacci(n)\n"
   ]
  },
  {
   "cell_type": "code",
   "execution_count": null,
   "id": "5ef9429b",
   "metadata": {},
   "outputs": [],
   "source": [
    "Question 4:\n",
    "Assuming that we have some email addresses in the \"username@companyname.com\" format, please write program to print the \n",
    "user name of a given email address. Both user names and company names are composed of letters only.\n",
    "Example:\n",
    "If the following email address is given as input to the program:\n",
    "john@google.com\n",
    "Then, the output of the program should be:\n",
    "john\n",
    "\n",
    "Ans - \n",
    "def findname(txt):\n",
    "     return txt [0:txt.find(\"@\")]\n",
    "    \n",
    "s = \"john@google.com\"\n",
    "findname(s)"
   ]
  },
  {
   "cell_type": "code",
   "execution_count": 1,
   "id": "0790d813",
   "metadata": {},
   "outputs": [
    {
     "ename": "SyntaxError",
     "evalue": "invalid syntax (<ipython-input-1-31176f5332af>, line 1)",
     "output_type": "error",
     "traceback": [
      "\u001b[1;36m  File \u001b[1;32m\"<ipython-input-1-31176f5332af>\"\u001b[1;36m, line \u001b[1;32m1\u001b[0m\n\u001b[1;33m    Question 5:\u001b[0m\n\u001b[1;37m             ^\u001b[0m\n\u001b[1;31mSyntaxError\u001b[0m\u001b[1;31m:\u001b[0m invalid syntax\n"
     ]
    }
   ],
   "source": [
    "Question 5:\n",
    "Define a class named Shape and its subclass Square. The Square class has an init function which takes a length as argument.\n",
    "Both classes have a area function which can print the area of the shape where Shape's area is 0 by default.\n",
    "\n",
    "ans - \n",
    "class shape:\n",
    "    def area(self):\n",
    "        print(\"Area of shape is 0\")\n",
    "        \n",
    "class square(shape):\n",
    "    def __init__(self,n):\n",
    "        self.n= n\n",
    "    def area(self):\n",
    "        print(\"Area of square is \",n**2)\n",
    "        super().area()\n",
    "        \n",
    "obj = square(10)\n",
    "obj.area()\n",
    "    "
   ]
  },
  {
   "cell_type": "code",
   "execution_count": null,
   "id": "7364742b",
   "metadata": {},
   "outputs": [],
   "source": []
  },
  {
   "cell_type": "code",
   "execution_count": null,
   "id": "f26c5ce8",
   "metadata": {},
   "outputs": [],
   "source": []
  },
  {
   "cell_type": "code",
   "execution_count": null,
   "id": "0fd82af3",
   "metadata": {},
   "outputs": [],
   "source": []
  }
 ],
 "metadata": {
  "kernelspec": {
   "display_name": "Python 3",
   "language": "python",
   "name": "python3"
  },
  "language_info": {
   "codemirror_mode": {
    "name": "ipython",
    "version": 3
   },
   "file_extension": ".py",
   "mimetype": "text/x-python",
   "name": "python",
   "nbconvert_exporter": "python",
   "pygments_lexer": "ipython3",
   "version": "3.8.8"
  }
 },
 "nbformat": 4,
 "nbformat_minor": 5
}
