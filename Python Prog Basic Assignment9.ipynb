{
 "cells": [
  {
   "cell_type": "code",
   "execution_count": null,
   "id": "eca7d02d",
   "metadata": {},
   "outputs": [],
   "source": [
    "1.\tWrite a Python program to check if the given number is a Disarium Number?\n",
    "Ans - \n",
    "def checkDisarium(num):\n",
    "    snum = str(num)\n",
    "    res = 0\n",
    "    for i in range(len(snum)):\n",
    "        res = res + int(snum[i])**(i+1)\n",
    "    #print(res)\n",
    "    if(res==num):\n",
    "        print(\"this \",num, \" is a Disarium number\")\n",
    "    else:\n",
    "        print(\"this \",num, \" is not a Disarium number\")\n",
    "    \n",
    "num = 175\n",
    "checkDisarium(num)"
   ]
  },
  {
   "cell_type": "code",
   "execution_count": null,
   "id": "bae5e879",
   "metadata": {},
   "outputs": [],
   "source": [
    "2.\tWrite a Python program to print all disarium numbers between 1 to 100?\n",
    "ans - \n",
    "def ListDisarium(num):\n",
    "    Dlst = []\n",
    "    for i in range(1, num+1):\n",
    "        snum = str(i)\n",
    "        res = 0\n",
    "        for j in range(len(snum)):\n",
    "            res = res + int(snum[j])**(j+1)\n",
    "            #print(res)\n",
    "        if(res==i):\n",
    "            Dlst.append(res)\n",
    "    return Dlst        \n",
    "           \n",
    "    \n",
    "num = 100\n",
    "ListDisarium(num)\n",
    "output - [1, 2, 3, 4, 5, 6, 7, 8, 9, 89]"
   ]
  },
  {
   "cell_type": "code",
   "execution_count": null,
   "id": "e9243d5e",
   "metadata": {},
   "outputs": [],
   "source": [
    "3.\tWrite a Python program to check if the given number is Happy Number?\n",
    "Ans -\n",
    "def CheckHappy(n):\n",
    "    past = set()\n",
    "    #print(past)\n",
    "    while n != 1:\n",
    "        n = sum(int(i)**2 for i in str(n))\n",
    "        if n in past:\n",
    "            return False\n",
    "        past.add(n)\n",
    "        #print(past)\n",
    "    return True\n",
    "num=7\n",
    "print(CheckHappy(num))"
   ]
  },
  {
   "cell_type": "code",
   "execution_count": null,
   "id": "19c50a5f",
   "metadata": {},
   "outputs": [],
   "source": [
    "4.\tWrite a Python program to print all happy numbers between 1 and 100?\n",
    "Ans -\n",
    "def CheckHappy(n):\n",
    "    past = set()\n",
    "    #print(past)\n",
    "    while n != 1:\n",
    "        n = sum(int(i)**2 for i in str(n))\n",
    "        if n in past:\n",
    "            return False\n",
    "        past.add(n)\n",
    "        #print(past)\n",
    "    return n\n",
    "\n",
    "Hlst = []\n",
    "for i in range(1,101):\n",
    "    res = CheckHappy(i)\n",
    "    if type(res)==int:\n",
    "        Hlst.append(i)\n",
    "        \n",
    "print(Hlst)\n",
    "\n",
    "output - [1, 7, 10, 13, 19, 23, 28, 31, 32, 44, 49, 68, 70, 79, 82, 86, 91, 94, 97, 100]"
   ]
  },
  {
   "cell_type": "code",
   "execution_count": null,
   "id": "703e69e3",
   "metadata": {},
   "outputs": [],
   "source": [
    "5.\tWrite a Python program to determine whether the given number is a Harshad Number?\n",
    "\n",
    "Ans \n",
    "def checkHarshad(num):\n",
    "        snum = str(num)\n",
    "        res = 0\n",
    "        for j in range(len(snum)):\n",
    "            res = res + int(snum[j])\n",
    "            #print(res)\n",
    "        if(num%res == 0):\n",
    "            print(\"This numbers\", num, \"is a Harsad number\")\n",
    "        else:\n",
    "            print(\"This numbers\", num, \"is not a Harsad number\")\n",
    "            \n",
    "num = 6804\n",
    "checkHarshad(num)\n"
   ]
  },
  {
   "cell_type": "code",
   "execution_count": null,
   "id": "ed098484",
   "metadata": {},
   "outputs": [],
   "source": [
    "6.\tWrite a Python program to print all pronic numbers between 1 and 100?\n",
    "Ans \n",
    "def ListPronic():\n",
    "    Plist=[]\n",
    "    for i in range(1, 12):\n",
    "        res = i*(i+1)\n",
    "        if(res<=100):\n",
    "            Plist.append(res)\n",
    "    return Plist\n",
    "        \n",
    "ListPronic()"
   ]
  },
  {
   "cell_type": "code",
   "execution_count": null,
   "id": "3b2b43a7",
   "metadata": {},
   "outputs": [],
   "source": []
  }
 ],
 "metadata": {
  "kernelspec": {
   "display_name": "Python 3",
   "language": "python",
   "name": "python3"
  },
  "language_info": {
   "codemirror_mode": {
    "name": "ipython",
    "version": 3
   },
   "file_extension": ".py",
   "mimetype": "text/x-python",
   "name": "python",
   "nbconvert_exporter": "python",
   "pygments_lexer": "ipython3",
   "version": "3.8.8"
  }
 },
 "nbformat": 4,
 "nbformat_minor": 5
}
