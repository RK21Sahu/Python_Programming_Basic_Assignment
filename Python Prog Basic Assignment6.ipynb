{
 "cells": [
  {
   "cell_type": "code",
   "execution_count": null,
   "id": "4300a179",
   "metadata": {},
   "outputs": [],
   "source": [
    "1.\tWrite a Python Program to Display Fibonacci Sequence Using Recursion?\n",
    "Ans - \n",
    "def Fibonacci(n):\n",
    "   if n <= 1:\n",
    "       return n\n",
    "   else:\n",
    "       return(Fibonacci(n-1) + Fibonacci(n-2))\n",
    "\n",
    "nterms = int(input(\"enter a number\"))\n",
    "\n",
    "if nterms <= 0:\n",
    "   print(\"Plese enter a positive integer\")\n",
    "else:\n",
    "   print(\"Fibonacci sequence:\")\n",
    "   for i in range(nterms):\n",
    "       print(Fibonacci(i))"
   ]
  },
  {
   "cell_type": "code",
   "execution_count": null,
   "id": "62b6a269",
   "metadata": {},
   "outputs": [],
   "source": [
    "2.\tWrite a Python Program to Find Factorial of Number Using Recursion?\n",
    "Ans - \n",
    "def recur_factorial(n):\n",
    "   if n == 1:\n",
    "       return n\n",
    "   else:\n",
    "       return n*recur_factorial(n-1)\n",
    "\n",
    "num = int(input(\"enter a number\"))\n",
    "\n",
    "if num < 0:\n",
    "   print(\"factorial does not exist for negative numbers\")\n",
    "elif num == 0:\n",
    "   print(\"The factorial of 0 is 1\")\n",
    "else:\n",
    "   print(\"The factorial of\", num, \"is\", recur_factorial(num))"
   ]
  },
  {
   "cell_type": "code",
   "execution_count": null,
   "id": "b6e4b96a",
   "metadata": {},
   "outputs": [],
   "source": [
    "3.\tWrite a Python Program to calculate your Body Mass Index?\n",
    "Ans - \n",
    "def bmi(h,w):\n",
    "    bmi = w/(h*h)\n",
    "    return round(bmi,2)\n",
    "\n",
    "h = float(input(\"Input your height in Feet: \"))\n",
    "w = float(input(\"Input your weight in Kilogram: \"))\n",
    "\n",
    "bmi(h,w)\n"
   ]
  },
  {
   "cell_type": "code",
   "execution_count": null,
   "id": "460f2d50",
   "metadata": {},
   "outputs": [],
   "source": [
    "4.\tWrite a Python Program to calculate the natural logarithm of any number?\n",
    "ans - \n",
    "import math\n",
    "\n",
    "def nlog(num):\n",
    "    if num<=0:\n",
    "        print(\"enter a positve number\")\n",
    "    else:\n",
    "        logval = math.log(num,math.e)\n",
    "        return logval\n",
    "        \n",
    "num = int(input(\"enter a number\"))\n",
    "\n",
    "nlog(num)"
   ]
  },
  {
   "cell_type": "code",
   "execution_count": null,
   "id": "510bfba2",
   "metadata": {},
   "outputs": [],
   "source": [
    "5.\tWrite a Python Program for cube sum of first n natural numbers?\n",
    "Ans -\n",
    "def nsum(n):\n",
    "    S = ((n**2)*((n+1)**2))/4\n",
    "    return S\n",
    "\n",
    "num = int(input(\"enter a number\"))\n",
    "\n",
    "nsum(num)"
   ]
  },
  {
   "cell_type": "code",
   "execution_count": null,
   "id": "2a62c899",
   "metadata": {},
   "outputs": [],
   "source": []
  }
 ],
 "metadata": {
  "kernelspec": {
   "display_name": "Python 3",
   "language": "python",
   "name": "python3"
  },
  "language_info": {
   "codemirror_mode": {
    "name": "ipython",
    "version": 3
   },
   "file_extension": ".py",
   "mimetype": "text/x-python",
   "name": "python",
   "nbconvert_exporter": "python",
   "pygments_lexer": "ipython3",
   "version": "3.8.8"
  }
 },
 "nbformat": 4,
 "nbformat_minor": 5
}
