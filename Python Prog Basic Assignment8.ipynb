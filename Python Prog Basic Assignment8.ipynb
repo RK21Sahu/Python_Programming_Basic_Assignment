{
 "cells": [
  {
   "cell_type": "code",
   "execution_count": null,
   "id": "567b3ea6",
   "metadata": {},
   "outputs": [],
   "source": [
    "1.\tWrite a Python Program to Add Two Matrices?\n",
    "Ans -\n",
    "X = [[1,2,3],\n",
    "    [4 ,5,6],\n",
    "    [7 ,8,9]]\n",
    " \n",
    "Y = [[11,12,13],\n",
    "    [14,15,16],\n",
    "    [17,18,19]]\n",
    "\n",
    "result = np.zeros((3,3))\n",
    "\n",
    "result = np.add(X,Y)"
   ]
  },
  {
   "cell_type": "code",
   "execution_count": null,
   "id": "82ac016a",
   "metadata": {},
   "outputs": [],
   "source": [
    "2.\tWrite a Python Program to Multiply Two Matrices?\n",
    "Ans -\n",
    "X = [[1,2,3],\n",
    "    [4 ,5,6],\n",
    "    [7 ,8,9]]\n",
    " \n",
    "Y = [[11,12,13],\n",
    "    [14,15,16],\n",
    "    [17,18,19]]\n",
    "\n",
    "result = np.zeros((3,3))\n",
    "\n",
    "result = np.dot(X,Y)"
   ]
  },
  {
   "cell_type": "code",
   "execution_count": null,
   "id": "bd16f098",
   "metadata": {},
   "outputs": [],
   "source": [
    "3.\tWrite a Python Program to Transpose a Matrix?\n",
    "Ans -\n",
    "X = [[1,2,3],\n",
    "    [4 ,5,6],\n",
    "    [7 ,8,9]]\n",
    "X = np.array(X)\n",
    "X = X.T\n",
    "print(X)"
   ]
  },
  {
   "cell_type": "code",
   "execution_count": null,
   "id": "77552197",
   "metadata": {},
   "outputs": [],
   "source": [
    "4.\tWrite a Python Program to Sort Words in Alphabetic Order?\n",
    "ans -\n",
    "def Fsort(text):\n",
    "    W = text.split(\" \")\n",
    "    for i in range(len(W)):\n",
    "        W[i] = W[i].lower()\n",
    "        W.sort()\n",
    "    return ' '.join(W)\n",
    "\n",
    "text = \"My name is Radhakanta. what is your name\"\n",
    "print(Fsort(text))"
   ]
  },
  {
   "cell_type": "code",
   "execution_count": null,
   "id": "348fa458",
   "metadata": {},
   "outputs": [],
   "source": [
    "5.\tWrite a Python Program to Remove Punctuation From a String?\n",
    "Ans - \n",
    "def rpunch(st):\n",
    "    punc = '''!()-[]{};:'\"\\,<>./?@#$%^&*_~'''\n",
    "    for i in st:\n",
    "        if i in punc:\n",
    "            st = st.replace(i, \"\")\n",
    "    print(st)\n",
    "    \n",
    "st = \"I ahve @ dk# kcsfkl $ dskdkd ^kndf.' *dkddns\"\n",
    "rpunch(st)"
   ]
  },
  {
   "cell_type": "code",
   "execution_count": null,
   "id": "1cd87155",
   "metadata": {},
   "outputs": [],
   "source": []
  }
 ],
 "metadata": {
  "kernelspec": {
   "display_name": "Python 3",
   "language": "python",
   "name": "python3"
  },
  "language_info": {
   "codemirror_mode": {
    "name": "ipython",
    "version": 3
   },
   "file_extension": ".py",
   "mimetype": "text/x-python",
   "name": "python",
   "nbconvert_exporter": "python",
   "pygments_lexer": "ipython3",
   "version": "3.8.8"
  }
 },
 "nbformat": 4,
 "nbformat_minor": 5
}
