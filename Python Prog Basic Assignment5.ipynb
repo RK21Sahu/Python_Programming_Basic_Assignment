{
 "cells": [
  {
   "cell_type": "code",
   "execution_count": null,
   "id": "6a7b2ba6",
   "metadata": {},
   "outputs": [],
   "source": [
    "1.\tWrite a Python Program to Find LCM?\n",
    "Ans - \n",
    "def calc_LCM(x,y):\n",
    "    if x > y:\n",
    "        greater = x\n",
    "    else:\n",
    "        greater = y\n",
    "    while(True):\n",
    "        if (greater % x == 0) and (greater % y == 0):\n",
    "            lcm = greater\n",
    "            break\n",
    "        else:\n",
    "            greater += 1\n",
    "    print(\"LCM of the two number\", a, \"and\", b, \"is\", lcm)\n",
    "\n",
    "a = int(input(\"enter 1st number\"))\n",
    "b = int(input(\"enter 2nd number\"))\n",
    "calc_LCM(a,b)\n",
    "            "
   ]
  },
  {
   "cell_type": "code",
   "execution_count": null,
   "id": "67d549f6",
   "metadata": {},
   "outputs": [],
   "source": [
    "2.\tWrite a Python Program to Find HCF?\n",
    "Ans - \n",
    "def calc_HCF(x,y):\n",
    "    if x > y:\n",
    "        smaller = x\n",
    "    else:\n",
    "        smaller = y\n",
    "    for i in range(1, smaller+1):\n",
    "        if (x % i == 0) and (y % i == 0):\n",
    "            HCF = i\n",
    "        i += 1\n",
    "    print(\"HCF of the two number\", a, \"and\", b, \"is\", HCF)\n",
    "\n",
    "a = int(input(\"enter 1st number\"))\n",
    "b = int(input(\"enter 2nd number\"))\n",
    "calc_HCF(a,b)"
   ]
  },
  {
   "cell_type": "code",
   "execution_count": null,
   "id": "5bc8d823",
   "metadata": {},
   "outputs": [],
   "source": [
    "3.\tWrite a Python Program to Convert Decimal to Binary, Octal and Hexadecimal?\n",
    "Ans - \n",
    "num = int(input(\"enter a number\"))\n",
    "\n",
    "print(\"The decimal value of\", num, \"is:\")\n",
    "print(bin(num), \"in binary.\")\n",
    "print(oct(num), \"in octal.\")\n",
    "print(hex(num), \"in hexadecimal.\")"
   ]
  },
  {
   "cell_type": "code",
   "execution_count": null,
   "id": "0064aedb",
   "metadata": {},
   "outputs": [],
   "source": [
    "4.\tWrite a Python Program To Find ASCII value of a character?\n",
    "Ans - \n",
    "char = input(\"Enter a charater from A to Z or a to z:\")\n",
    "print(\"The ASCII value of '\" + char +  \"' is:\", ord(char))"
   ]
  },
  {
   "cell_type": "code",
   "execution_count": null,
   "id": "c04a0a1c",
   "metadata": {},
   "outputs": [],
   "source": [
    "5.\tWrite a Python Program to Make a Simple Calculator with 4 basic mathematical operations?\n",
    "Ans -\n",
    "def add(a,b):\n",
    "    return a + b\n",
    "\n",
    "def sub(a,b):\n",
    "    return a - b\n",
    "\n",
    "def mul(a,b):\n",
    "    return a * b\n",
    "def div(a,b):\n",
    "    try:\n",
    "        return a / b\n",
    "    except Exception as e:\n",
    "        print(\"enter valid number\")\n",
    "\n",
    "print(\"addition = 1\")\n",
    "print(\"substraction = 2\")\n",
    "print(\"Multiplication = 3\")\n",
    "print(\"Divide = 4\")\n",
    "\n",
    "while(True):\n",
    "    operation  = int(input(\"Enter what you like to do from above operation:\"))\n",
    "    if operation in (1,2,3,4):\n",
    "        num1 = int(input(\"Enter the 1st number\"))\n",
    "        num2 = int(input(\"Enter the 2nd number\"))\n",
    "        \n",
    "        if operation==1:\n",
    "            print(\"Addition of \", num1, \"and\", num2, \"is\", add(num1,num2))\n",
    "        elif operation==2:\n",
    "            print(\"substraction of \", num1, \"and\", num2, \"is\", sub(num1,num2))\n",
    "        elif operation==3:\n",
    "            print(\"Multiplication of \", num1, \"and\", num2, \"is\", mul(num1,num2))\n",
    "        elif operation==4:\n",
    "            print(\"Division of \", num1, \"and\", num2, \"is\", div(num1,num2))\n",
    "    chk = input(\"Do you like to do another operatio: yes/no\")\n",
    "    if chk==\"no\":\n",
    "        break\n",
    "        "
   ]
  },
  {
   "cell_type": "code",
   "execution_count": null,
   "id": "ccbb57c1",
   "metadata": {},
   "outputs": [],
   "source": []
  }
 ],
 "metadata": {
  "kernelspec": {
   "display_name": "Python 3",
   "language": "python",
   "name": "python3"
  },
  "language_info": {
   "codemirror_mode": {
    "name": "ipython",
    "version": 3
   },
   "file_extension": ".py",
   "mimetype": "text/x-python",
   "name": "python",
   "nbconvert_exporter": "python",
   "pygments_lexer": "ipython3",
   "version": "3.8.8"
  }
 },
 "nbformat": 4,
 "nbformat_minor": 5
}
