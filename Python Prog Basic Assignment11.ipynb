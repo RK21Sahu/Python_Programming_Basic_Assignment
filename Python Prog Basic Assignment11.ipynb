{
 "cells": [
  {
   "cell_type": "code",
   "execution_count": null,
   "id": "5c4d4ae6",
   "metadata": {},
   "outputs": [],
   "source": [
    "1.\tWrite a Python program to find words which are greater than given length k?\n",
    "Ans \n",
    "word = \"Radhakanta\"\n",
    "\n",
    "def findLenght(word,n):\n",
    "    if (len(word)>n):\n",
    "        print(\"Lenght of the \", word,\"  is greater then \",n)\n",
    "    else:\n",
    "        print(\"Lenght of the \", word,\"  is less then or equal to \",n)\n",
    "\n",
    "n=int(input(\"enter the desired lenght\"))        \n",
    "findLenght(word, n)\n"
   ]
  },
  {
   "cell_type": "code",
   "execution_count": null,
   "id": "83fae131",
   "metadata": {},
   "outputs": [],
   "source": [
    "2.\tWrite a Python program for removing i-th character from a string?\n",
    "Ans \n",
    "word = \"Radhakanta\"\n",
    "\n",
    "def removechar(word,i):\n",
    "    \n",
    "    lst = []\n",
    "    uword=\"\"\n",
    "    if (len(word)<i):\n",
    "        print(\"Enter a valid position\")\n",
    "    else:\n",
    "        for j in word:\n",
    "            lst.append(j)\n",
    "        #print(lst)\n",
    "        for j in lst:\n",
    "            if (lst.index(j)+1==i):\n",
    "                lst.remove(j)\n",
    "        for j in lst:\n",
    "            uword = uword+j\n",
    "        return uword\n",
    "\n",
    "n=int(input(\"enter the desired position\"))        \n",
    "removechar(word, n)"
   ]
  },
  {
   "cell_type": "code",
   "execution_count": null,
   "id": "f1f257bb",
   "metadata": {},
   "outputs": [],
   "source": [
    "3.\tWrite a Python program to split and join a string?\n",
    "Ans \n",
    "def splitjoin(string):\n",
    "    x=string.split()\n",
    "    #print(x)\n",
    "    for i in x:\n",
    "        string1 = \" \".join(x)\n",
    "    return string1\n",
    "\n",
    "string=\"I like do python progrmming\"        \n",
    "splitjoin(string)"
   ]
  },
  {
   "cell_type": "code",
   "execution_count": null,
   "id": "37bbc7a5",
   "metadata": {},
   "outputs": [],
   "source": [
    "4.\tWrite a Python to check if a given string is binary string or not?\n",
    "ans - \n",
    "def checkBinary(string):\n",
    "    #x=string.split()\n",
    "    #print(x)\n",
    "    chk = 0\n",
    "    if (string[0]==\"0\" and string[1]==\"b\"):\n",
    "        #print(x)\n",
    "        for i in range(2,len(string)):\n",
    "            if(string[i]==\"0\" or string[i]==\"1\"):\n",
    "                chk=chk + 1\n",
    "    #print(chk)\n",
    "    #print((len(string)-2))\n",
    "    if(chk==(len(string)-2) and len(string) > 2):\n",
    "        print(\"the entered string: \", string, \" is a binary number\")\n",
    "    else:\n",
    "        print(\"the entered string: \", string, \" is not a binary number\")\n",
    "    \n",
    "\n",
    "string=\"0b1010\"        \n",
    "checkBinary(string)"
   ]
  },
  {
   "cell_type": "code",
   "execution_count": null,
   "id": "b7a7adf7",
   "metadata": {},
   "outputs": [],
   "source": [
    "5.\tWrite a Python program to find uncommon words from two Strings?\n",
    "ans - \n",
    "def UncommonWords(A, B):\n",
    "  \n",
    "    count = {}\n",
    "    for i in A.split():\n",
    "        #print(count.get(word, 0))\n",
    "        count[i] = count.get(i, 0) + 1\n",
    "\n",
    "    for i in B.split():\n",
    "        count[i] = count.get(i, 0) + 1\n",
    "  \n",
    "    return [i for i in count if count[i] == 1]\n",
    "\n",
    "A = \"I am learning python programming\"\n",
    "B = \"I love to do python programming\"\n",
    "UncommonWords(A,B)\n",
    "\n",
    "output - ['am', 'learning', 'love', 'to', 'do']"
   ]
  },
  {
   "cell_type": "code",
   "execution_count": null,
   "id": "5ddd79ff",
   "metadata": {},
   "outputs": [],
   "source": [
    "6.\tWrite a Python to find all duplicate characters in string?\n",
    "Ans - \n",
    "def UncommonWords(A):\n",
    "  \n",
    "    count = {}\n",
    "    for i in A:\n",
    "        #print(count.get(word, 0))\n",
    "        count[i] = count.get(i, 0) + 1\n",
    " \n",
    "    return [i for i in count if count[i] > 1]\n",
    "\n",
    "A = \"UncommonWords\"\n",
    "UncommonWords(A)\n",
    "\n",
    "output - ['n', 'o', 'm']"
   ]
  },
  {
   "cell_type": "code",
   "execution_count": null,
   "id": "25609f5a",
   "metadata": {},
   "outputs": [],
   "source": [
    "7.\tWrite a Python Program to check if a string contains any special character?\n",
    "ans = \n",
    "import re\n",
    "\n",
    "def checkspecial(string):\n",
    "    regex = re.compile('[@_!#$%^&*()<>?/\\|}{~:]')\n",
    "    if(regex.search(string)==None):\n",
    "        print(\"The string:\", string, \" -don't have any special charater\" )\n",
    "    else:\n",
    "        print(\"The string:\", string, \" -have special charater\" )\n",
    "string = \"I am the ndkd@ 3k#dff\"\n",
    "checkspecial(string)"
   ]
  },
  {
   "cell_type": "code",
   "execution_count": null,
   "id": "ca85dede",
   "metadata": {},
   "outputs": [],
   "source": []
  }
 ],
 "metadata": {
  "kernelspec": {
   "display_name": "Python 3",
   "language": "python",
   "name": "python3"
  },
  "language_info": {
   "codemirror_mode": {
    "name": "ipython",
    "version": 3
   },
   "file_extension": ".py",
   "mimetype": "text/x-python",
   "name": "python",
   "nbconvert_exporter": "python",
   "pygments_lexer": "ipython3",
   "version": "3.8.8"
  }
 },
 "nbformat": 4,
 "nbformat_minor": 5
}
