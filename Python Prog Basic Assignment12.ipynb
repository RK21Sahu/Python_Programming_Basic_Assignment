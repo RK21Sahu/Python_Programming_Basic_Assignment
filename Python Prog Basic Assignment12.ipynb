{
 "cells": [
  {
   "cell_type": "code",
   "execution_count": null,
   "id": "a1f80310",
   "metadata": {},
   "outputs": [],
   "source": [
    "1.\tWrite a Python program to Extract Unique values dictionary values?\n",
    "ans - \n",
    "def uniquedict(D):\n",
    "    lst = []\n",
    "    slst = {}\n",
    "    for i in D.values():\n",
    "        lst.append(i)\n",
    "    slst = set(lst)\n",
    "    return slst\n",
    "\n",
    "D = {\"key1\":3,\"key2\":5,\"key3\":3,\"key4\":12}\n",
    "uniquedict(D)    \n",
    "\n",
    "output - {3, 5, 12}"
   ]
  },
  {
   "cell_type": "code",
   "execution_count": null,
   "id": "77c37023",
   "metadata": {},
   "outputs": [],
   "source": [
    "2.\tWrite a Python program to find the sum of all items in a dictionary?\n",
    "ans - \n",
    "def sumdict(D):\n",
    "    dsum = 0\n",
    "    for i in D.values():\n",
    "        dsum = dsum + i\n",
    "    return dsum\n",
    "\n",
    "D = {\"key1\":3,\"key2\":5,\"key3\":3,\"key4\":12}\n",
    "sumdict(D) "
   ]
  },
  {
   "cell_type": "code",
   "execution_count": null,
   "id": "7d4d58c6",
   "metadata": {},
   "outputs": [],
   "source": [
    "3.\tWrite a Python program to Merging two Dictionaries?\n",
    "ans - \n",
    "def mergedict(D1,D2):\n",
    "    return (D2.update(D1))\n",
    "\n",
    "D1 = {\"key1\":3,\"key2\":5,\"key3\":3,\"key4\":12}\n",
    "D2 = {\"key5\":\"RK\",\"key6\":18,\"key7\":\"Sahu\"}\n",
    "mergedict(D1,D2) \n",
    "\n",
    "print(D2)\n",
    "output - {'key5': 'RK', 'key6': 18, 'key7': 'Sahu', 'key1': 3, 'key2': 5, 'key3': 3, 'key4': 12}"
   ]
  },
  {
   "cell_type": "code",
   "execution_count": null,
   "id": "22b573a0",
   "metadata": {},
   "outputs": [],
   "source": [
    "4.\tWrite a Python program to convert key-values list to flat dictionary?\n",
    "ans - \n",
    "D = {\"key1\":[\"data\",\"info\",\"prog\"],\"key2\":[\"SQL\",\"EDA\",\"Python\"]}\n",
    "\n",
    "def flatlist(D):\n",
    "    res = dict(zip(D['key1'], D['key2']))\n",
    "    return res\n",
    "\n",
    "flatlist(D)"
   ]
  },
  {
   "cell_type": "code",
   "execution_count": null,
   "id": "2d4f3847",
   "metadata": {},
   "outputs": [],
   "source": [
    "5.\tWrite a Python program to insertion at the beginning in OrderedDict?\n",
    "ans - \n",
    "from collections import OrderedDict\n",
    "\n",
    "OdD = OrderedDict([(\"Key1\",\"RK\"),(\"Key2\",\"Sahu\")])\n",
    "OdD.update({\"Key3\":\"BD\"})\n",
    "OdD.move_to_end(\"Key3\",last=False)\n",
    "\n",
    "print(OdD)"
   ]
  },
  {
   "cell_type": "code",
   "execution_count": null,
   "id": "0d9d4fb6",
   "metadata": {},
   "outputs": [],
   "source": [
    "6.\tWrite a Python program to check order of character in string using OrderedDict()?\n",
    "Ans - \n",
    "from collections import OrderedDict \n",
    "def checkOrder(string, pattern): \n",
    "    dict = OrderedDict.fromkeys(string) \n",
    "    ptrlen = 0\n",
    "    for key,value in dict.items(): \n",
    "        if (key == pattern[ptrlen]): \n",
    "            ptrlen = ptrlen + 1 \n",
    "            print(ptrlen)\n",
    "        if (ptrlen == (len(pattern))): \n",
    "            return 'true'\n",
    "    return False\n",
    "\n",
    "string = 'Python is best for data science'\n",
    "pattern = 'yns'\n",
    "print (checkOrder(string,pattern)) "
   ]
  },
  {
   "cell_type": "code",
   "execution_count": null,
   "id": "eca8d3bf",
   "metadata": {},
   "outputs": [],
   "source": [
    "7.\tWrite a Python program to sort Python Dictionaries by Key or Value?\n",
    "ans - \n",
    "D = {1:10 ,2:11 ,4:43 ,3:24 ,6:5 ,5:3 }\n",
    "#this will print a sorted list of the keys\n",
    "print(sorted(D.keys()))\n",
    "#this will print the sorted list with items.\n",
    "print(sorted(D.items()))\n",
    "\n",
    "#this will print the sorted list with values.\n",
    "print(sorted(D.values()))\n"
   ]
  },
  {
   "cell_type": "code",
   "execution_count": null,
   "id": "193b5d6c",
   "metadata": {},
   "outputs": [],
   "source": []
  }
 ],
 "metadata": {
  "kernelspec": {
   "display_name": "Python 3",
   "language": "python",
   "name": "python3"
  },
  "language_info": {
   "codemirror_mode": {
    "name": "ipython",
    "version": 3
   },
   "file_extension": ".py",
   "mimetype": "text/x-python",
   "name": "python",
   "nbconvert_exporter": "python",
   "pygments_lexer": "ipython3",
   "version": "3.8.8"
  }
 },
 "nbformat": 4,
 "nbformat_minor": 5
}
