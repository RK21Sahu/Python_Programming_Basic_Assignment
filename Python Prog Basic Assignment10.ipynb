{
 "cells": [
  {
   "cell_type": "code",
   "execution_count": null,
   "id": "3eb3e52d",
   "metadata": {},
   "outputs": [],
   "source": [
    "1.\tWrite a Python program to find sum of elements in list?\n",
    "Ans - \n",
    "def sumList(lst):\n",
    "    return sum(lst)\n",
    "\n",
    "sumList(lst)"
   ]
  },
  {
   "cell_type": "code",
   "execution_count": null,
   "id": "aaed2e73",
   "metadata": {},
   "outputs": [],
   "source": [
    "2.\tWrite a Python program to  Multiply all numbers in the list?\n",
    "Ans \n",
    "import functools\n",
    "def mulList(a,b):\n",
    "    return a*b\n",
    "\n",
    "functools.reduce(mulList,lst)"
   ]
  },
  {
   "cell_type": "code",
   "execution_count": null,
   "id": "5531667e",
   "metadata": {},
   "outputs": [],
   "source": [
    "3.\tWrite a Python program to find smallest number in a list?\n",
    "ans \n",
    "def minList(lst):\n",
    "    return min(lst)\n",
    "\n",
    "minList(lst)"
   ]
  },
  {
   "cell_type": "code",
   "execution_count": null,
   "id": "953e4f53",
   "metadata": {},
   "outputs": [],
   "source": [
    "4.\tWrite a Python program to find largest number in a list?\n",
    "ans - \n",
    "def maxList(lst):\n",
    "    return max(lst)\n",
    "\n",
    "maxList(lst)"
   ]
  },
  {
   "cell_type": "code",
   "execution_count": null,
   "id": "8734879b",
   "metadata": {},
   "outputs": [],
   "source": [
    "5.\tWrite a Python program to find second largest number in a list?\n",
    "ans \n",
    "def sortList(lst,n):\n",
    "    lst.sort(reverse=True)\n",
    "    #print(lst)\n",
    "    return lst[n-1]\n",
    "\n",
    "n=2\n",
    "sortList(lst,n)"
   ]
  },
  {
   "cell_type": "code",
   "execution_count": null,
   "id": "f22792f2",
   "metadata": {},
   "outputs": [],
   "source": [
    "6.\tWrite a Python program to find N largest elements from a list?\n",
    "ans \n",
    "def sortList(lst,n):\n",
    "    lst.sort(reverse=True)\n",
    "    #print(lst)\n",
    "    if n>len(lst):\n",
    "        print(\"enter a valid number\")\n",
    "    else:\n",
    "        return lst[n-1]\n",
    "n=int(input(\"enter the the which position largest number you want to see\"))\n",
    "\n",
    "sortList(lst,n)"
   ]
  },
  {
   "cell_type": "code",
   "execution_count": null,
   "id": "9a5f4740",
   "metadata": {},
   "outputs": [],
   "source": [
    "7.\tWrite a Python program to print even numbers in a list?\n",
    "ans \n",
    "def checkeven(lst):\n",
    "    elst=[]\n",
    "    for i in lst:\n",
    "        if i%2 ==0:\n",
    "            elst.append(i)\n",
    "    return elst\n",
    "\n",
    "checkeven(lst)"
   ]
  },
  {
   "cell_type": "code",
   "execution_count": null,
   "id": "69fe7e0c",
   "metadata": {},
   "outputs": [],
   "source": [
    "8.\tWrite a Python program to print odd numbers in a List?\n",
    "ans \n",
    "def oddeven(lst):\n",
    "    elst=[]\n",
    "    for i in lst:\n",
    "        if i%2 !=0:\n",
    "            elst.append(i)\n",
    "    return elst\n",
    "\n",
    "oddeven(lst)"
   ]
  },
  {
   "cell_type": "code",
   "execution_count": null,
   "id": "cbe65935",
   "metadata": {},
   "outputs": [],
   "source": [
    "9.\tWrite a Python program to Remove empty List from List?\n",
    "ans \n",
    "def Remptlist(lst):\n",
    "    for i in lst:\n",
    "        if type(i)== list and len(i)==0:\n",
    "            lst.remove(i)\n",
    "    return lst\n",
    "\n",
    "lst = [20, 12,[],[3,5], 8, 6, 2]\n",
    "\n",
    "Remptlist(lst)"
   ]
  },
  {
   "cell_type": "code",
   "execution_count": null,
   "id": "833a1bbe",
   "metadata": {},
   "outputs": [],
   "source": [
    "10.\tWrite a Python program to Cloning or Copying a list?\n",
    "ans \n",
    "def copylist(lst):\n",
    "    clst = []\n",
    "    clst = lst.copy()\n",
    "    return clst\n",
    "\n",
    "lst = [20, 12,[],[3,5], 8, 6, 2]\n",
    "\n",
    "copylist(lst)"
   ]
  },
  {
   "cell_type": "code",
   "execution_count": null,
   "id": "5b43411d",
   "metadata": {},
   "outputs": [],
   "source": [
    "11.\tWrite a Python program to Count occurrences of an element in a list?\n",
    "ans \n",
    "def countele(lst):\n",
    "    slst = ()\n",
    "    slst = set(lst)\n",
    "    #print(slst)\n",
    "    for i in slst:\n",
    "        print(i, \" is pressent \", lst.count(i), \"times\")\n",
    "\n",
    "\n",
    "lst = [2,3,8,6,6,3, 12, 8, 6, 2]\n",
    "countele(lst)"
   ]
  },
  {
   "cell_type": "code",
   "execution_count": null,
   "id": "7ed326f4",
   "metadata": {},
   "outputs": [],
   "source": []
  }
 ],
 "metadata": {
  "kernelspec": {
   "display_name": "Python 3",
   "language": "python",
   "name": "python3"
  },
  "language_info": {
   "codemirror_mode": {
    "name": "ipython",
    "version": 3
   },
   "file_extension": ".py",
   "mimetype": "text/x-python",
   "name": "python",
   "nbconvert_exporter": "python",
   "pygments_lexer": "ipython3",
   "version": "3.8.8"
  }
 },
 "nbformat": 4,
 "nbformat_minor": 5
}
